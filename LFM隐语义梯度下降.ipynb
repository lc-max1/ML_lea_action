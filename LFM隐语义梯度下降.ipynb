{
 "cells": [
  {
   "cell_type": "code",
   "execution_count": 1,
   "id": "e139c1b5",
   "metadata": {},
   "outputs": [],
   "source": [
    "import numpy as np\n",
    "import pandas as pd"
   ]
  },
  {
   "cell_type": "markdown",
   "id": "12d4fb5b",
   "metadata": {},
   "source": [
    "# 数据准备"
   ]
  },
  {
   "cell_type": "code",
   "execution_count": 2,
   "id": "d0a61900",
   "metadata": {},
   "outputs": [
    {
     "data": {
      "text/plain": [
       "array([[4, 0, 2, 0, 1],\n",
       "       [0, 2, 3, 0, 0],\n",
       "       [1, 0, 2, 4, 0],\n",
       "       [5, 0, 0, 3, 1],\n",
       "       [0, 0, 1, 5, 1],\n",
       "       [0, 3, 2, 4, 1]])"
      ]
     },
     "execution_count": 2,
     "metadata": {},
     "output_type": "execute_result"
    }
   ],
   "source": [
    "#评分矩阵R\n",
    "R = np.array([[4,0,2,0,1],\n",
    "              [0,2,3,0,0],\n",
    "              [1,0,2,4,0],\n",
    "              [5,0,0,3,1],\n",
    "              [0,0,1,5,1],\n",
    "              [0,3,2,4,1],])\n",
    "\n",
    "R"
   ]
  },
  {
   "cell_type": "markdown",
   "id": "ac15a440",
   "metadata": {},
   "source": [
    "# 算法实现"
   ]
  },
  {
   "cell_type": "code",
   "execution_count": 3,
   "id": "677d0ec2",
   "metadata": {},
   "outputs": [],
   "source": [
    "\"\"\"\n",
    "@输入参数\n",
    "R:M*N的评分矩阵\n",
    "K：隐特征向量维度\n",
    "max_iter:最大迭代次数\n",
    "alpha:步长\n",
    "lamda:正则化系数\n",
    "\n",
    "@输出\n",
    "分解之后的P、Q\n",
    "P：初始化用户特征矩阵M*K\n",
    "Q：初始化物品特征矩阵N*K\n",
    "\"\"\"\n",
    "\n",
    "#给定超参数\n",
    "\n",
    "K=5\n",
    "max_iter=5000\n",
    "alpha=0.0002\n",
    "lamda=0.004\n",
    "\n",
    "#核心算法\n",
    "def LFM_grad_desc(R,K,max_iter,alpha,lamda):\n",
    "    #基本维度参数定义\n",
    "    M=len(R)\n",
    "    N=len(R[0])\n",
    "    \n",
    "    #P,Q初始值，随机生产\n",
    "    P=np.random.rand(M,K)\n",
    "    Q=np.random.rand(N,K)\n",
    "    Q=Q.T\n",
    "    \n",
    "    #开始迭代\n",
    "    for step in range(max_iter):\n",
    "        #对所有用户u,物品i做遍历，对应的特征向量Pu、Qi梯度下降\n",
    "        for u in range(M):\n",
    "            for i in range(N):\n",
    "                #排除评分为零的项（用户未看过）\n",
    "                if R[u][i]>0:\n",
    "                    eui=np.dot(P[u,:],Q[:,i])-R[u][i]\n",
    "                    #代入公式，按照梯度下降算法更新当期的Pu、Qi\n",
    "                    for k in range(K):\n",
    "                        P[u][k]=P[u][k]-alpha*(2*eui*Q[k][i]+2*lamda*P[u][k])\n",
    "                        Q[k][i]=Q[k][i]-alpha*(2*eui*Q[k][i]+2*lamda*Q[k][i])\n",
    "                        \n",
    "                        \n",
    "        #u,i遍历完成，所有特征向量更新完成，可以得到P，Q，可以计算预测评分矩阵\n",
    "        predR=np.dot(P,Q)\n",
    "        \n",
    "        #计算损失函数\n",
    "        cost=0\n",
    "        for u in range(M):\n",
    "            for i in range(N):\n",
    "                if R[u][i]>0:\n",
    "                    cost+=(np.dot(P[u,:],Q[:,i])-R[u][i])**2\n",
    "                    #加上正则化项\n",
    "                    for k in range(K):\n",
    "                        cost+=lamda*(P[u][k]**2+Q[k][i]**2)\n",
    "                        \n",
    "        if cost<0.0001:\n",
    "            break\n",
    "                    \n",
    "                    \n",
    "    return P,Q.T,cost\n"
   ]
  },
  {
   "cell_type": "markdown",
   "id": "1f736bed",
   "metadata": {},
   "source": [
    "# 测试"
   ]
  },
  {
   "cell_type": "code",
   "execution_count": 4,
   "id": "e72793a4",
   "metadata": {},
   "outputs": [
    {
     "name": "stdout",
     "output_type": "stream",
     "text": [
      "P\n",
      "[[ 0.96939949  0.76463904  0.71202142  0.98194911  0.3325981 ]\n",
      " [ 0.71799332  1.1296045   1.30291719  1.15045024  0.49324286]\n",
      " [ 0.56937799  0.18417822  0.88928239 -0.34351978  1.40828819]\n",
      " [ 0.77542152  1.56776237  0.35185496  1.19666577 -0.08591357]\n",
      " [ 1.86901823  0.5272786   0.13112224 -0.02013641  0.36925239]\n",
      " [ 1.02414323 -0.04335391  0.6735116   0.647399    1.00273154]]\n",
      "Q\n",
      "[[1.2213625  1.35814861 0.08665355 1.58797354 0.40196236]\n",
      " [1.06416293 0.04776199 0.43703544 0.26615032 1.16001441]\n",
      " [0.41634089 0.24565159 0.73397177 0.62936096 0.81996585]\n",
      " [2.02012743 0.81306215 0.62833945 0.10240217 1.55219419]\n",
      " [0.40799495 0.18199108 0.56828621 0.03122836 0.25351457]]\n",
      "cost\n",
      "0.9886373559722076\n",
      "原始值：\n",
      "[[4 0 2 0 1]\n",
      " [0 2 3 0 0]\n",
      " [1 0 2 4 0]\n",
      " [5 0 0 3 1]\n",
      " [0 0 1 5 1]\n",
      " [0 3 2 4 1]]\n",
      "预测值：\n"
     ]
    },
    {
     "data": {
      "text/plain": [
       "array([[3.97718193, 2.02646294, 2.00475858, 3.64421127, 1.05428267],\n",
       "       [4.54915291, 2.26579655, 2.66121433, 4.07096823, 1.39991639],\n",
       "       [1.04319631, 2.54556228, 1.87355746, 4.0094952 , 1.11748307],\n",
       "       [4.97255409, 1.27265937, 1.64890314, 3.05140951, 0.81723073],\n",
       "       [3.12668316, 2.49440763, 1.29401684, 4.85784394, 1.02600699],\n",
       "       [2.68144407, 2.71762151, 2.13973452, 4.07957343, 1.06712685]])"
      ]
     },
     "execution_count": 4,
     "metadata": {},
     "output_type": "execute_result"
    }
   ],
   "source": [
    "P,Q,cost=LFM_grad_desc(R,K,max_iter,alpha,lamda)\n",
    "print(\"P\")\n",
    "print(P)\n",
    "print(\"Q\")\n",
    "print(Q)\n",
    "print(\"cost\")\n",
    "print(cost)\n",
    "\n",
    "predR=P.dot(Q.T)\n",
    "\n",
    "print(\"原始值：\")\n",
    "print(R)\n",
    "print(\"预测值：\")\n",
    "predR"
   ]
  },
  {
   "cell_type": "code",
   "execution_count": null,
   "id": "8876864b",
   "metadata": {},
   "outputs": [],
   "source": []
  }
 ],
 "metadata": {
  "kernelspec": {
   "display_name": "Python 3",
   "language": "python",
   "name": "python3"
  },
  "language_info": {
   "codemirror_mode": {
    "name": "ipython",
    "version": 3
   },
   "file_extension": ".py",
   "mimetype": "text/x-python",
   "name": "python",
   "nbconvert_exporter": "python",
   "pygments_lexer": "ipython3",
   "version": "3.8.8"
  }
 },
 "nbformat": 4,
 "nbformat_minor": 5
}
