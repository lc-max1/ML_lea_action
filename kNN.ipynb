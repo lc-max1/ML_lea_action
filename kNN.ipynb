{
 "cells": [
  {
   "cell_type": "code",
   "execution_count": 1,
   "id": "e820514a",
   "metadata": {},
   "outputs": [],
   "source": [
    "from numpy import *\n",
    "import operator\n",
    "from os import listdir"
   ]
  },
  {
   "cell_type": "code",
   "execution_count": 2,
   "id": "c344be3a",
   "metadata": {},
   "outputs": [],
   "source": [
    "def createDataSet():\n",
    "    group=array([[1.0,1.1],[1.0,1.0],[0,0],[0,0.1]])\n",
    "    labels=['A','A','B','B']\n",
    "    return group,labels"
   ]
  },
  {
   "cell_type": "markdown",
   "id": "a9582f7a",
   "metadata": {},
   "source": [
    "# 数据预处理"
   ]
  },
  {
   "cell_type": "code",
   "execution_count": 3,
   "id": "867d2c41",
   "metadata": {},
   "outputs": [],
   "source": [
    "\n",
    "def file2matrix(filename):\n",
    "    fr=open(filename)\n",
    "    arrayOLines=fr.readlines()\n",
    "    numberOfLines=len(arrayOLines)\n",
    "    returnMat=zeros((numberOfLines,3))\n",
    "    classLabelVector=[]\n",
    "    index=0\n",
    "    \n",
    "    for line in arrayOLines:\n",
    "        ##截取掉所有回车字符\n",
    "        line = line.strip()\n",
    "        ##以\\t分割\n",
    "        listFromLine = line.split('\\t')\n",
    "        ##存入矩阵第index行\n",
    "        returnMat[index,:]=listFromLine[0:3]\n",
    "        ##-1表示最后一列元素\n",
    "        classLabelVector.append(int(listFromLine[-1]))\n",
    "        index+=1\n",
    "    return returnMat,classLabelVector\n",
    "    \n"
   ]
  },
  {
   "cell_type": "markdown",
   "id": "e8d5ff4e",
   "metadata": {},
   "source": [
    "# 特征值归一化"
   ]
  },
  {
   "cell_type": "code",
   "execution_count": 4,
   "id": "3fc40d40",
   "metadata": {},
   "outputs": [],
   "source": [
    "def autoNorm(dataSet):\n",
    "    #参数0代表从每列中选取最小值\n",
    "    minVals = dataSet.min(0)\n",
    "    maxVals = dataSet.max(0)\n",
    "    ranges = maxVals-minVals\n",
    "    normDataSet = zeros(shape(dataSet))\n",
    "    #获取行数\n",
    "    m = dataSet.shape[0]\n",
    "    normDataSet = dataSet - tile(minVals,(m,1))\n",
    "    normDataSet = normDataSet/tile(ranges,(m,1))\n",
    "    return normDataSet,ranges,minVals"
   ]
  },
  {
   "cell_type": "markdown",
   "id": "9d3f89df",
   "metadata": {},
   "source": [
    "# 分类器针对约会网站测试"
   ]
  },
  {
   "cell_type": "code",
   "execution_count": 5,
   "id": "eb4f7482",
   "metadata": {},
   "outputs": [],
   "source": [
    "def datingClassTest():\n",
    "    hoRatio=0.1\n",
    "    datingDataMat,datingLabels=file2matrix('datingTestSet2.txt')\n",
    "    normMat,ranges,minVals=autoNorm(datingDataMat)\n",
    "    m = normMat.shape[0]\n",
    "    numTestVecs = int(m*hoRatio)\n",
    "    errorCount = 0.0\n",
    "    for i in range(numTestVecs):\n",
    "        classifierResult = classify0(normMat[i,:],normMat[numTestVecs:m,:],datingLabels[numTestVecs:m],3)\n",
    "        print (\"分类器返回结果: %d, 真实结果: %d\" % (classifierResult, datingLabels[i]))\n",
    "        if (classifierResult != datingLabels[i]): errorCount += 1.0\n",
    "    print (\"错误率: %f\" % (errorCount/float(numTestVecs)))\n",
    "    print (errorCount)\n",
    "                                           \n",
    "                                            "
   ]
  },
  {
   "cell_type": "markdown",
   "id": "1e6732db",
   "metadata": {},
   "source": [
    "# 算法实现"
   ]
  },
  {
   "cell_type": "code",
   "execution_count": 6,
   "id": "8de7c44f",
   "metadata": {},
   "outputs": [],
   "source": [
    "def classify0(inX, dataSet, labels, k):\n",
    "    #使用欧式距离\n",
    "    dataSetSize = dataSet.shape[0]\n",
    "    diffMat = tile(inX, (dataSetSize,1)) - dataSet\n",
    "    sqDiffMat = diffMat**2\n",
    "    sqDistances = sqDiffMat.sum(axis=1)\n",
    "    distances = sqDistances**0.5\n",
    "    sortedDistIndicies = distances.argsort()     \n",
    "    classCount={}          \n",
    "    for i in range(k):\n",
    "        voteIlabel = labels[sortedDistIndicies[i]]\n",
    "        classCount[voteIlabel] = classCount.get(voteIlabel,0) + 1\n",
    "    sortedClassCount = sorted(classCount.items(), key=operator.itemgetter(1), reverse=True)\n",
    "    return sortedClassCount[0][0]"
   ]
  },
  {
   "cell_type": "markdown",
   "id": "1c338c74",
   "metadata": {},
   "source": [
    "# 约会网站预测函数"
   ]
  },
  {
   "cell_type": "code",
   "execution_count": 7,
   "id": "744b34ac",
   "metadata": {},
   "outputs": [],
   "source": [
    "def classifyPerson():\n",
    "    resultList = ['一点也不','有一点','非常']\n",
    "    percentTats = float(input(\"玩视频游戏花费时间百分比？\"))\n",
    "    ffMiles = float(input(\"每年飞行距离？\"))\n",
    "    iceCream = float(input(\"每周吃多少公升冰淇淋？\"))\n",
    "    datingDataMat,datingLabels = file2matrix('datingTestSet2.txt')\n",
    "    normMat, ranges, minVals = autoNorm(datingDataMat)\n",
    "    inArr = array([ffMiles,percentTats,iceCream])\n",
    "    classifierResult = classify0((inArr-minVals)/ranges,normMat,datingLabels,3)\n",
    "    print(\"你可能\",resultList[classifierResult-1],\"喜欢这个人\")"
   ]
  },
  {
   "cell_type": "markdown",
   "id": "cf855a0c",
   "metadata": {},
   "source": [
    "# 处理图像信息，将32 * 32矩阵转换为1 * 1024矩阵"
   ]
  },
  {
   "cell_type": "code",
   "execution_count": 8,
   "id": "20f7ec43",
   "metadata": {},
   "outputs": [],
   "source": [
    "def imgvector(filename):\n",
    "    returnVect = zeros((1,1024))\n",
    "    fr = open(filename)\n",
    "    for i in range(32):\n",
    "        lineStr = fr.readline()\n",
    "        for j in range(32):\n",
    "            returnVect[0,32*i+j] = int(lineStr[j])\n",
    "    return returnVect"
   ]
  },
  {
   "cell_type": "markdown",
   "id": "8927a459",
   "metadata": {},
   "source": [
    "# 使用KNN识别手写数字"
   ]
  },
  {
   "cell_type": "code",
   "execution_count": 9,
   "id": "1e9af6be",
   "metadata": {},
   "outputs": [],
   "source": [
    "def handwritingClassTest():\n",
    "    #存放真实结果\n",
    "    hwLabels = []\n",
    "    trainingFileList = listdir('trainingDigits')\n",
    "    m = len(trainingFileList)\n",
    "    #m行1024列，每行代表一个图像\n",
    "    trainingMat = zeros((m,1024))\n",
    "    for i in range(m):\n",
    "        fileNameStr = trainingFileList[i]\n",
    "        fileStr = fileNameStr.split('.')[0]\n",
    "        classNumStr = int(fileStr.split('_')[0])\n",
    "        hwLabels.append(classNumStr)\n",
    "        trainingMat[i,:] = imgvector('trainingDigits/%s' % fileNameStr)\n",
    "    testFileList = listdir('testDigits')\n",
    "    errorCount = 0.0\n",
    "    mTest = len(testFileList)\n",
    "    for i in range(mTest):\n",
    "        fileNameStr = testFileList[i]\n",
    "        fileStr = fileNameStr.split('.')[0]\n",
    "        classNumStr = int(fileStr.split('_')[0])\n",
    "        vectorUnderTest = imgvector('testDigits/%s' % fileNameStr)\n",
    "        classifierResult = classify0(vectorUnderTest,trainingMat,hwLabels,3)\n",
    "        print(\"识别结果为：%d，真实结果为：%d\" %(classifierResult,classNumStr))\n",
    "        if(classifierResult!=classNumStr):errorCount+=1.0\n",
    "    print(\"\\n总共错误数为：%d\" % errorCount)\n",
    "    print(\"\\n错误率为：%f\" % (errorCount/float(mTest)))\n",
    "        "
   ]
  },
  {
   "cell_type": "code",
   "execution_count": 10,
   "id": "3add8cf6",
   "metadata": {},
   "outputs": [
    {
     "name": "stderr",
     "output_type": "stream",
     "text": [
      "[NbConvertApp] Converting notebook kNN.ipynb to python\n",
      "[NbConvertApp] Writing 4532 bytes to kNN.py\n"
     ]
    }
   ],
   "source": [
    "try:\n",
    "    !jupyter nbconvert --to python kNN.ipynb\n",
    "except:\n",
    "    pass"
   ]
  },
  {
   "cell_type": "code",
   "execution_count": null,
   "id": "cbfadaa9",
   "metadata": {},
   "outputs": [],
   "source": []
  },
  {
   "cell_type": "code",
   "execution_count": null,
   "id": "45fe9851",
   "metadata": {},
   "outputs": [],
   "source": []
  }
 ],
 "metadata": {
  "kernelspec": {
   "display_name": "Python 3",
   "language": "python",
   "name": "python3"
  },
  "language_info": {
   "codemirror_mode": {
    "name": "ipython",
    "version": 3
   },
   "file_extension": ".py",
   "mimetype": "text/x-python",
   "name": "python",
   "nbconvert_exporter": "python",
   "pygments_lexer": "ipython3",
   "version": "3.8.8"
  }
 },
 "nbformat": 4,
 "nbformat_minor": 5
}
